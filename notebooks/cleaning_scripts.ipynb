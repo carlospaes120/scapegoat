{
 "cells": [
  {
   "cell_type": "code",
   "execution_count": 7,
   "id": "24c60c4d-2674-47be-bb7e-2ab1a2c6cb2a",
   "metadata": {},
   "outputs": [],
   "source": [
    "import json\n",
    "\n",
    "input_path = 'tweets_cleaned_monark_1.jsonl'\n",
    "output_path = 'tweets_for_labelstudio_monark.json'\n",
    "n_loop = 1000\n",
    "tasks = []\n",
    "\n",
    "with open(input_path, 'r', encoding='utf-8') as infile:\n",
    "    for line in infile:\n",
    "        count = 0\n",
    "        if count <= n_loop:\n",
    "            obj = json.loads(line)\n",
    "            tasks.append({\n",
    "                \"text\": obj[\"text\"],\n",
    "                \"cleaned_text\": obj[\"cleaned_text\"],\n",
    "                \"id\": obj[\"id\"],\n",
    "                \"stance\": \"\"\n",
    "            })\n",
    "        count+= 1\n",
    "\n",
    "with open(output_path, 'w', encoding='utf-8') as outfile:\n",
    "    json.dump(tasks, outfile, ensure_ascii=False, indent=2)\n",
    "\n"
   ]
  },
  {
   "cell_type": "code",
   "execution_count": null,
   "id": "370fa245-230b-4755-af4b-781c4324d674",
   "metadata": {},
   "outputs": [],
   "source": []
  }
 ],
 "metadata": {
  "kernelspec": {
   "display_name": "Python 3 (ipykernel)",
   "language": "python",
   "name": "python3"
  },
  "language_info": {
   "codemirror_mode": {
    "name": "ipython",
    "version": 3
   },
   "file_extension": ".py",
   "mimetype": "text/x-python",
   "name": "python",
   "nbconvert_exporter": "python",
   "pygments_lexer": "ipython3",
   "version": "3.11.0"
  }
 },
 "nbformat": 4,
 "nbformat_minor": 5
}
