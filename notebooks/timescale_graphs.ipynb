{
 "cells": [
  {
   "cell_type": "code",
   "execution_count": 1,
   "id": "9fce216c-e11c-49f1-a9ce-beb1902c3e31",
   "metadata": {},
   "outputs": [
    {
     "name": "stdout",
     "output_type": "stream",
     "text": [
      "Grafo temporal criado com 5760 nós e 5212 arestas.\n",
      "Arquivo 'scapegoat_temporal.gexf' criado com sucesso!\n"
     ]
    }
   ],
   "source": [
    "import networkx as nx\n",
    "import json\n",
    "from datetime import datetime\n",
    "\n",
    "def criar_arquivo_gephi_temporal(caminho_arquivo_jsonl, arquivo_saida_gexf):\n",
    "    \"\"\"\n",
    "    Cria um arquivo .gexf temporal para ser importado no Gephi.\n",
    "\n",
    "    As arestas (interações) terão atributos de 'stance' e 'tempo' (via start/end).\n",
    "    \"\"\"\n",
    "    # 1. Inicializar o Grafo Direcionado\n",
    "    G = nx.DiGraph()\n",
    "\n",
    "    # --- INÍCIO DA CORREÇÃO ---\n",
    "    # Adicionar metadados para indicar que o grafo é dinâmico\n",
    "    # Isso é essencial para o Gephi reconhecer os dados temporais.\n",
    "    G.graph['mode'] = 'dynamic'\n",
    "    G.graph['timeformat'] = 'datetime' \n",
    "    # --- FIM DA CORREÇÃO ---\n",
    "\n",
    "    # 2. Ler o arquivo JSONL e popular o grafo\n",
    "    with open(caminho_arquivo_jsonl, 'r', encoding='utf-8') as f:\n",
    "        for line in f:\n",
    "            try:\n",
    "                tweet = json.loads(line)\n",
    "                \n",
    "                autor = tweet.get('user')\n",
    "                stance = tweet.get('stance')\n",
    "                timestamp_str = tweet.get('created_at_iso') # formato ISO8601\n",
    "\n",
    "                if not autor or not stance or not timestamp_str:\n",
    "                    continue\n",
    "                \n",
    "                # Validação extra do formato da data (opcional, mas recomendado)\n",
    "                # Garante que a string está no formato correto que o Gephi espera.\n",
    "                # O formato esperado é YYYY-MM-DDTHH:MM:SS\n",
    "                valid_timestamp = datetime.fromisoformat(timestamp_str.replace(\"Z\", \"+00:00\")).isoformat()\n",
    "\n",
    "                # Adiciona o autor como nó (se já não existir)\n",
    "                G.add_node(autor)\n",
    "                \n",
    "                mencoes = [m['username'] for m in tweet.get('mentions', [])]\n",
    "                usuario_respondido = tweet.get('in_reply_to_user')\n",
    "                if usuario_respondido:\n",
    "                    mencoes.append(usuario_respondido)\n",
    "                \n",
    "                # 3. Adicionar arestas com atributos de stance e tempo\n",
    "                for mencionado in set(mencoes):\n",
    "                    if mencionado:\n",
    "                        G.add_node(mencionado)\n",
    "                        G.add_edge(\n",
    "                            autor, mencionado,\n",
    "                            stance=stance,\n",
    "                            # Usamos o timestamp validado\n",
    "                            start=valid_timestamp,\n",
    "                            end=valid_timestamp\n",
    "                        )\n",
    "            except (json.JSONDecodeError, KeyError, ValueError) as e:\n",
    "                print(f\"Erro ao processar linha: {line.strip()}. Erro: {e}\")\n",
    "                continue\n",
    "\n",
    "\n",
    "    print(f\"Grafo temporal criado com {G.number_of_nodes()} nós e {G.number_of_edges()} arestas.\")\n",
    "\n",
    "    # 4. Salvar o grafo no formato GEXF\n",
    "    try:\n",
    "        # --- ALTERAÇÃO: Especificar a versão 1.2 do GEXF ---\n",
    "        nx.write_gexf(G, arquivo_saida_gexf, version='1.2')\n",
    "        print(f\"Arquivo '{arquivo_saida_gexf}' criado com sucesso!\")\n",
    "    except Exception as e:\n",
    "        print(f\"Ocorreu um erro ao salvar o arquivo: {e}\")\n",
    "\n",
    "# --- Como usar a função ---\n",
    "# Certifique-se que este arquivo existe e contém os dados no formato esperado\n",
    "arquivo_de_tweets_classificados = 'tweets_classificados.jsonl' \n",
    "nome_do_arquivo_gephi_temporal = 'scapegoat_temporal_corrigido.gexf'\n",
    "\n",
    "criar_arquivo_gephi_temporal(arquivo_de_tweets_classificados, nome_do_arquivo_gephi_temporal)"
   ]
  },
  {
   "cell_type": "code",
   "execution_count": null,
   "id": "31d33a2b-3be8-4396-bd15-df6ae449ca48",
   "metadata": {},
   "outputs": [],
   "source": []
  }
 ],
 "metadata": {
  "kernelspec": {
   "display_name": "Python 3 (ipykernel)",
   "language": "python",
   "name": "python3"
  },
  "language_info": {
   "codemirror_mode": {
    "name": "ipython",
    "version": 3
   },
   "file_extension": ".py",
   "mimetype": "text/x-python",
   "name": "python",
   "nbconvert_exporter": "python",
   "pygments_lexer": "ipython3",
   "version": "3.11.0"
  }
 },
 "nbformat": 4,
 "nbformat_minor": 5
}
